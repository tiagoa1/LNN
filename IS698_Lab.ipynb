{
 "cells": [
  {
   "cell_type": "code",
   "execution_count": 6,
   "id": "806eaf62",
   "metadata": {},
   "outputs": [],
   "source": [
    "import lnn"
   ]
  },
  {
   "cell_type": "code",
   "execution_count": 1,
   "id": "40a8f76d",
   "metadata": {},
   "outputs": [],
   "source": [
    "\n",
    "from lnn import Propositions, And, Fact, Implies, Iff, Or\n",
    "\n",
    "# Knowledge\n",
    "A, B, C, D, E = Propositions(\"A\", \"B\", \"C\", \"D\", \"E\")\n",
    "IMPLIES = Implies(A,B)\n",
    "AND = And(C,D)\n",
    "IFF = Iff(AND,E)\n",
    "ROOT = And(IMPLIES,IFF)\n",
    "OR = Or(B,D,E)\n",
    "\n",
    "# Data\n",
    "A.add_data(0.2)\n",
    "C.add_data(Fact.TRUE)\n",
    "E.add_data((0.3,0.7))\n",
    "ROOT.add_data(Fact.TRUE)\n"
   ]
  },
  {
   "cell_type": "code",
   "execution_count": 2,
   "id": "38d36812",
   "metadata": {},
   "outputs": [
    {
     "name": "stdout",
     "output_type": "stream",
     "text": [
      "OPEN Implies: (A → B)                                       TRUE (1.0, 1.0)\n",
      "\n",
      "OPEN Iff: (((C ∧ D) → E) ∧ (E → (C ∧ D)))                   TRUE (1.0, 1.0)\n",
      "\n"
     ]
    }
   ],
   "source": [
    "ROOT.downward()\n",
    "IMPLIES.print()\n",
    "IFF.print()"
   ]
  },
  {
   "cell_type": "code",
   "execution_count": 3,
   "id": "4cf97f29",
   "metadata": {},
   "outputs": [
    {
     "name": "stdout",
     "output_type": "stream",
     "text": [
      "OPEN Proposition: B                                APPROX_UNKNOWN (0.2, 1.0)\n",
      "\n"
     ]
    }
   ],
   "source": [
    "# Reasoning\n",
    "IMPLIES.downward()\n",
    "B.print()\n"
   ]
  },
  {
   "cell_type": "code",
   "execution_count": 4,
   "id": "c7d2749d",
   "metadata": {},
   "outputs": [
    {
     "name": "stdout",
     "output_type": "stream",
     "text": [
      "OPEN And: (C ∧ D)                                  APPROX_UNKNOWN (0.3, 0.7)\n",
      "\n"
     ]
    }
   ],
   "source": [
    "IFF.downward()\n",
    "AND.print()"
   ]
  },
  {
   "cell_type": "code",
   "execution_count": 5,
   "id": "ee809fbf",
   "metadata": {},
   "outputs": [
    {
     "name": "stdout",
     "output_type": "stream",
     "text": [
      "OPEN Proposition: D                                APPROX_UNKNOWN (0.3, 0.7)\n",
      "\n"
     ]
    }
   ],
   "source": [
    "AND.downward()\n",
    "D.print()"
   ]
  },
  {
   "cell_type": "code",
   "execution_count": 8,
   "id": "876aebbe",
   "metadata": {},
   "outputs": [
    {
     "data": {
      "text/plain": [
       "'APPROX_TRUE: (0.8, 1.0)'"
      ]
     },
     "execution_count": 8,
     "metadata": {},
     "output_type": "execute_result"
    }
   ],
   "source": [
    "def query_state(node):\n",
    "    round_off = lambda my_list: [float(f\"{_:.1f}\") for _ in my_list]\n",
    "    return f\"{node.state().name}: {tuple(round_off(node.get_data().tolist()))}\"\n",
    "\n",
    "\n",
    "query = OR \n",
    "...\n",
    "query_state(query)"
   ]
  },
  {
   "cell_type": "code",
   "execution_count": 7,
   "id": "68fe2491",
   "metadata": {},
   "outputs": [
    {
     "name": "stdout",
     "output_type": "stream",
     "text": [
      "OPEN Or: (B ∨ D ∨ E)                                 APPROX_TRUE (0.8, 1.0)\n",
      "\n"
     ]
    }
   ],
   "source": [
    "OR.upward()\n",
    "OR.print()"
   ]
  },
  {
   "cell_type": "code",
   "execution_count": null,
   "id": "a340501c",
   "metadata": {},
   "outputs": [],
   "source": []
  }
 ],
 "metadata": {
  "kernelspec": {
   "display_name": "Python 3 (ipykernel)",
   "language": "python",
   "name": "python3"
  },
  "language_info": {
   "codemirror_mode": {
    "name": "ipython",
    "version": 3
   },
   "file_extension": ".py",
   "mimetype": "text/x-python",
   "name": "python",
   "nbconvert_exporter": "python",
   "pygments_lexer": "ipython3",
   "version": "3.11.4"
  }
 },
 "nbformat": 4,
 "nbformat_minor": 5
}
